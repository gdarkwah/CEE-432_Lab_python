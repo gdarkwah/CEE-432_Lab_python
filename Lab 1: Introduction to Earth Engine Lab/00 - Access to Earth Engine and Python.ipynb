{
  "cells": [
    {
      "attachments": {},
      "cell_type": "markdown",
      "metadata": {
        "id": "x9P9SVpxJu3z"
      },
      "source": [
        "<a href=\"https://colab.research.google.com/github/gdarkwah/CEE-432_Lab_python/blob/main/Lab%201:%20Introduction%20to%20Earth%20Engine%20Lab/00%20-%20Access%20to%20Earth%20Engine%20and%20Python.ipynb\" target=\"_parent\"><img src=\"https://colab.research.google.com/assets/colab-badge.svg\" alt=\"Open In Colab\"/></a>"
      ]
    },
    {
      "cell_type": "markdown",
      "metadata": {
        "id": "3r5RYTF3Kf1E"
      },
      "source": [
        "# Prerequisites\n",
        "\n",
        "Please complete this tutorial before arriving at geohackweek. Use the steps below to get registered for a Google Earth Engine account and to join our shared repository.\n",
        "\n",
        "## 1. Registering for a Google Earth Engine account\n",
        "\n",
        "* Go the the [GEE sign up page](https://signup.earthengine.google.com/#!/) and enter > the email you want to use for your GEE account. A gmail is best if you have one.\n",
        "* Enter your email, your affiliation and country/region. Where it asks what you want to accomplish, mention you are at Geohackweek at the University of Washington.\n",
        "* Review the terms, verify your non-robot identify and click ‘Submit’.\n",
        "* Check your email, including your spam folder, for a link from the Google Developer’s Team. The confirmation email will have directions on how to access the Code Editor.\n",
        "\n",
        "Not sure if you have access? Use [this link](https://code.earthengine.google.com/) to check. If you didn’t get access you will get an authorization error that says your account isn’t registered. If you do have access, the link will open up the Javascript IDE. This link is your permanent portal to GEE access.\n",
        "\n",
        "## 2. Joining our shared GEE code repository\n",
        "Google Earth Engine allows you to have shared group folders/repositories for scripts. We’ve organized the code presented in this tutorial this way. Instead of adding each of your emails one at a time (tedious!), you will instead join a google group that will then allow you access to the shared code repository. Please follow these steps:\n",
        "* Join the Geohackweek Google Earth Engine Tutorial Google group by clicking this link https://goo.gl/JsnWZH . Don’t worry about posting permissions; we won’t be posting anything.\n",
        "* Accept the shared repository by clicking this link: https://code.earthengine.google.com/?accept_repo=users/victorialy/geohackweek2019\n",
        "* In the code editor, go to the Scripts tab in the top left panel, scroll down and expand the “Reader” section. A directory called users/victorialy/geohackweek2019 should appear with read-only versions of the full scripts from each episode.\n",
        "\n",
        "## 3. Python Tips\n",
        "[TODO]\n",
        "\n",
        "###  Basic Python for GEE\n",
        "Here are a few basics useful for GEE, translated from JavaScript in [Earth Engine 101 Beginner’s Curriculum](https://docs.google.com/document/d/1ZxRKMie8dfTvBmUNOO0TFMkd7ELGWf3WjX0JvESZdOE/edit).\n",
        "\n"
      ]
    },
    {
      "cell_type": "code",
      "execution_count": null,
      "metadata": {
        "id": "PSLLnYalJu31"
      },
      "outputs": [],
      "source": [
        "# Line comments start with the pound sign. Like this line."
      ]
    },
    {
      "cell_type": "markdown",
      "metadata": {
        "id": "yPrsvH7XODrO"
      },
      "source": [
        "Variables are used to store objects and are defined using the keyword **var**."
      ]
    },
    {
      "cell_type": "code",
      "execution_count": null,
      "metadata": {
        "id": "r7FQu-WYJyw5"
      },
      "outputs": [],
      "source": [
        "theAnswer = 42\n",
        "# string objects start and end with a single quote\n",
        "myVariable = 'I am a string'\n",
        "\n",
        "# string objects can also use double quotes, but don't mix and match\n",
        "myOtherVariable = \"I am also a string\""
      ]
    },
    {
      "cell_type": "markdown",
      "metadata": {
        "id": "VGKJEKP9OUmL"
      },
      "source": [
        "Statements should end in a semi-colon, or the editor complains."
      ]
    },
    {
      "cell_type": "code",
      "execution_count": null,
      "metadata": {
        "id": "Rap0eqYXOUMr"
      },
      "outputs": [],
      "source": [
        "test = 'I feel incomplete...'\n",
        "test2 = 'I feel complete!'"
      ]
    },
    {
      "cell_type": "markdown",
      "metadata": {
        "id": "YEbpmf4bOd7N"
      },
      "source": [
        "Passing function parameters and using lists"
      ]
    },
    {
      "cell_type": "code",
      "execution_count": null,
      "metadata": {
        "id": "uhux5NhcOc2b"
      },
      "outputs": [],
      "source": [
        "# Parentheses are used to pass parameters to functions\n",
        "print('This string will print in the Output.');\n",
        "\n",
        "# Square brackets are used for items in a list.\n",
        "# The zero index refers to the first item in a list.\n",
        "myList = ['eggplant','apple','wheat'];\n",
        "print(myList[0]) # would print 'eggplant'"
      ]
    },
    {
      "cell_type": "markdown",
      "metadata": {
        "id": "9Kz3NPgVOwY0"
      },
      "source": [
        "Using dictionaries"
      ]
    },
    {
      "cell_type": "code",
      "execution_count": null,
      "metadata": {
        "id": "Q5fbBsogOuAm"
      },
      "outputs": [],
      "source": [
        "# Curly brackets (or braces) can be used to define dictionaries (key:value pairs).\n",
        "myDict = {'food':'bread', 'color':'red', 'number':42}\n",
        "\n",
        "# Square brackets can be used to access dictionary items by key.\n",
        "print(myDict['color'])\n",
        "\n",
        "# You cannot use the dot notation to get the same result in python.\n",
        "# print(myDict.color); # this will yield an error"
      ]
    },
    {
      "cell_type": "markdown",
      "metadata": {
        "id": "s9I7MUKTPSeG"
      },
      "source": [
        "Functions can be defined as a way to reuse code and make it easier to read."
      ]
    },
    {
      "cell_type": "code",
      "execution_count": null,
      "metadata": {
        "id": "DbCFx98hPVRp"
      },
      "outputs": [],
      "source": [
        "def myHelloFunction(string):\n",
        "  return 'Hello ' + string + '!'\n",
        "\n",
        "print(myHelloFunction('world'))"
      ]
    },
    {
      "cell_type": "markdown",
      "metadata": {
        "id": "bVYBG9fJP1Ay"
      },
      "source": [
        "### Other Python Resources\n",
        "[TODO]"
      ]
    }
  ],
  "metadata": {
    "colab": {
      "provenance": []
    },
    "kernelspec": {
      "display_name": "base",
      "language": "python",
      "name": "python3"
    },
    "language_info": {
      "name": "python",
      "version": "3.9.13"
    },
    "orig_nbformat": 4
  },
  "nbformat": 4,
  "nbformat_minor": 0
}
